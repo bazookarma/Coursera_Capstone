{
    "nbformat_minor": 1, 
    "cells": [
        {
            "source": "Importing the necessary libraries", 
            "cell_type": "markdown", 
            "metadata": {}
        }, 
        {
            "source": "import requests\nimport pandas as pd\nimport lxml.html as lh", 
            "cell_type": "code", 
            "metadata": {}, 
            "outputs": [], 
            "execution_count": 1
        }, 
        {
            "source": "Defining the url of the Wikipedia page and groom for data scraping", 
            "cell_type": "markdown", 
            "metadata": {}
        }, 
        {
            "source": "url='https://en.wikipedia.org/wiki/List_of_postal_codes_of_Canada:_M'\npage = requests.get(url)\ndoc = lh.fromstring(page.content)\ntr_elements = doc.xpath('//tr')", 
            "cell_type": "code", 
            "metadata": {}, 
            "outputs": [], 
            "execution_count": 2
        }, 
        {
            "source": "Filter the different items from the table and add them to a dictionary to create the table", 
            "cell_type": "markdown", 
            "metadata": {}
        }, 
        {
            "source": "[len(T) for T in tr_elements[:12]]", 
            "cell_type": "code", 
            "metadata": {}, 
            "outputs": [
                {
                    "output_type": "execute_result", 
                    "data": {
                        "text/plain": "[3, 3, 3, 3, 3, 3, 3, 3, 3, 3, 3, 3]"
                    }, 
                    "execution_count": 3, 
                    "metadata": {}
                }
            ], 
            "execution_count": 3
        }, 
        {
            "source": "tr_elements = doc.xpath('//tr')\n\ncol=[]\ni=0\nfor t in tr_elements[0]:\n    i+=1\n    name=t.text_content()\n    col.append((name,[]))", 
            "cell_type": "code", 
            "metadata": {}, 
            "outputs": [], 
            "execution_count": 4
        }, 
        {
            "source": "for j in range(1,len(tr_elements)):\n    T=tr_elements[j]\n    \n    if len(T)!=3:\n        break\n    \n    i=0\n    \n    for t in T.iterchildren():\n        data=t.text_content() \n        if i>0:\n            try:\n                data=int(data)\n            except:\n                pass\n        col[i][1].append(data)\n        i+=1", 
            "cell_type": "code", 
            "metadata": {}, 
            "outputs": [], 
            "execution_count": 5
        }, 
        {
            "source": "[len(C) for (title,C) in col]", 
            "cell_type": "code", 
            "metadata": {}, 
            "outputs": [
                {
                    "output_type": "execute_result", 
                    "data": {
                        "text/plain": "[289, 289, 289]"
                    }, 
                    "execution_count": 6, 
                    "metadata": {}
                }
            ], 
            "execution_count": 6
        }, 
        {
            "source": "Dict={title:column for (title,column) in col}\ndf = pd.DataFrame.from_dict(Dict)", 
            "cell_type": "code", 
            "metadata": {}, 
            "outputs": [], 
            "execution_count": 7
        }, 
        {
            "source": "Drop rows that have \"Not assigned\" in the Borough column", 
            "cell_type": "markdown", 
            "metadata": {}
        }, 
        {
            "source": "df = df[df.Borough != \"Not assigned\"]", 
            "cell_type": "code", 
            "metadata": {}, 
            "outputs": [], 
            "execution_count": 8
        }, 
        {
            "source": "Rename Neighbourhood column", 
            "cell_type": "markdown", 
            "metadata": {}
        }, 
        {
            "source": "df.rename(index=str, columns={\"Neighbourhood\\n\": \"Neighbourhood\"}, inplace=True)", 
            "cell_type": "code", 
            "metadata": {}, 
            "outputs": [], 
            "execution_count": 9
        }, 
        {
            "source": "Make the \"Not assigned\" values in the Neighbourhood column equal to the Borough column", 
            "cell_type": "markdown", 
            "metadata": {}
        }, 
        {
            "source": "df.Neighbourhood = df.Borough.where(df.Neighbourhood == 'Not assigned\\n', df.Neighbourhood)", 
            "cell_type": "code", 
            "metadata": {}, 
            "outputs": [], 
            "execution_count": 10
        }, 
        {
            "source": "Group by Postcode and Join the values in Neighbourhood", 
            "cell_type": "markdown", 
            "metadata": {}
        }, 
        {
            "source": "df = df.groupby('Postcode', as_index=False).agg({'Borough':'first', 'Neighbourhood':', '.join})", 
            "cell_type": "code", 
            "metadata": {}, 
            "outputs": [], 
            "execution_count": 11
        }, 
        {
            "source": "Remove unwaned \\n characters", 
            "cell_type": "markdown", 
            "metadata": {}
        }, 
        {
            "source": "df = df.replace(r'\\n',' ', regex=True) ", 
            "cell_type": "code", 
            "metadata": {}, 
            "outputs": [], 
            "execution_count": 12
        }, 
        {
            "source": "Rename Postcode column", 
            "cell_type": "markdown", 
            "metadata": {}
        }, 
        {
            "source": "df.rename(index=str, columns={\"Postcode\": \"PostalCode\"}, inplace=True)", 
            "cell_type": "code", 
            "metadata": {}, 
            "outputs": [], 
            "execution_count": 13
        }, 
        {
            "source": "df.head()", 
            "cell_type": "code", 
            "metadata": {}, 
            "outputs": [
                {
                    "output_type": "execute_result", 
                    "data": {
                        "text/html": "<div>\n<style scoped>\n    .dataframe tbody tr th:only-of-type {\n        vertical-align: middle;\n    }\n\n    .dataframe tbody tr th {\n        vertical-align: top;\n    }\n\n    .dataframe thead th {\n        text-align: right;\n    }\n</style>\n<table border=\"1\" class=\"dataframe\">\n  <thead>\n    <tr style=\"text-align: right;\">\n      <th></th>\n      <th>PostalCode</th>\n      <th>Neighbourhood</th>\n      <th>Borough</th>\n    </tr>\n  </thead>\n  <tbody>\n    <tr>\n      <th>0</th>\n      <td>M1B</td>\n      <td>Rouge , Malvern</td>\n      <td>Scarborough</td>\n    </tr>\n    <tr>\n      <th>1</th>\n      <td>M1C</td>\n      <td>Highland Creek , Rouge Hill , Port Union</td>\n      <td>Scarborough</td>\n    </tr>\n    <tr>\n      <th>2</th>\n      <td>M1E</td>\n      <td>Guildwood , Morningside , West Hill</td>\n      <td>Scarborough</td>\n    </tr>\n    <tr>\n      <th>3</th>\n      <td>M1G</td>\n      <td>Woburn</td>\n      <td>Scarborough</td>\n    </tr>\n    <tr>\n      <th>4</th>\n      <td>M1H</td>\n      <td>Cedarbrae</td>\n      <td>Scarborough</td>\n    </tr>\n  </tbody>\n</table>\n</div>", 
                        "text/plain": "  PostalCode                              Neighbourhood      Borough\n0        M1B                           Rouge , Malvern   Scarborough\n1        M1C  Highland Creek , Rouge Hill , Port Union   Scarborough\n2        M1E       Guildwood , Morningside , West Hill   Scarborough\n3        M1G                                    Woburn   Scarborough\n4        M1H                                 Cedarbrae   Scarborough"
                    }, 
                    "execution_count": 14, 
                    "metadata": {}
                }
            ], 
            "execution_count": 14
        }, 
        {
            "source": "Get dataframe shape", 
            "cell_type": "markdown", 
            "metadata": {}
        }, 
        {
            "source": "df.shape", 
            "cell_type": "code", 
            "metadata": {}, 
            "outputs": [
                {
                    "output_type": "execute_result", 
                    "data": {
                        "text/plain": "(103, 3)"
                    }, 
                    "execution_count": 15, 
                    "metadata": {}
                }
            ], 
            "execution_count": 15
        }
    ], 
    "metadata": {
        "kernelspec": {
            "display_name": "Python 3.5", 
            "name": "python3", 
            "language": "python"
        }, 
        "language_info": {
            "mimetype": "text/x-python", 
            "nbconvert_exporter": "python", 
            "version": "3.5.5", 
            "name": "python", 
            "file_extension": ".py", 
            "pygments_lexer": "ipython3", 
            "codemirror_mode": {
                "version": 3, 
                "name": "ipython"
            }
        }
    }, 
    "nbformat": 4
}