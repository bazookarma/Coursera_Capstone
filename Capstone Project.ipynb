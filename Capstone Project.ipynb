{
    "nbformat_minor": 1, 
    "cells": [
        {
            "source": "## Introduction", 
            "cell_type": "markdown", 
            "metadata": {}
        }, 
        {
            "source": "London is a very big and diverse city, and it is known for the pragmatic english way of living as well as for great tea and underground music.<br>\nBut no matter if they have left their partying 20s behing and look for something more in life, or if they have found their significant other and want to take a responsible next step, for many London habitants the question remains the same:<br><b>How about a pet?</b><br>\nAnd by pet, in this case, we mean a dog. A loyal companion, that keeps you active and fit by talking long walks with you, loves you relentlessly as the leader of the pack and guards your apartment door.<br>\nBut wait\u2026 ist he place where you live the best place for a dog?<br>\nThis report will answer this question by building a modelt hat evaluates the different Neighbourhoods of London based on factors that would make the neighbourhood a good environment for a dog.<br>\nThe result will be usefull to anyone who wants to own a dog, and could also easily be used by anyone who wants to set up a pet store or veternarian clinic in London to see where a good spot is or where a lot ov competitors would await.", 
            "cell_type": "markdown", 
            "metadata": {}
        }, 
        {
            "source": "## Data", 
            "cell_type": "markdown", 
            "metadata": {}
        }, 
        {
            "source": "First, the relevant neighbourhoods will be scraped from the wikipedia page about Londons Boroughs.<br> \nThen, the location data containing Latitude and Longitude will be added.<br>\nNext, the Foresquare API will be utilized to get location data concentrationg on the following factors:\n-\tVeterenarians, to provide quick medical care for the dog in case of emergencies\n-\tParks, to take long walks and play fetch with the dog\n-\tPet shops, to not be reliant on supermarkt pet food but to get good quality and toys nearby\nThe model will compare the neighbourhoods based on these factors, compare them to each other and in the end tell the future dog owner, where to best look for a new place before having their new animal friend move in.<br>", 
            "cell_type": "markdown", 
            "metadata": {}
        }
    ], 
    "metadata": {
        "kernelspec": {
            "display_name": "Python 3.5", 
            "name": "python3", 
            "language": "python"
        }, 
        "language_info": {
            "mimetype": "text/x-python", 
            "nbconvert_exporter": "python", 
            "version": "3.5.5", 
            "name": "python", 
            "pygments_lexer": "ipython3", 
            "file_extension": ".py", 
            "codemirror_mode": {
                "version": 3, 
                "name": "ipython"
            }
        }
    }, 
    "nbformat": 4
}